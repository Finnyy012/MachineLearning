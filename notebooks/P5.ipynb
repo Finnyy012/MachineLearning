{
 "cells": [
  {
   "cell_type": "code",
   "execution_count": 1,
   "id": "6f76ff9f",
   "metadata": {},
   "outputs": [],
   "source": [
    "import numpy as np\n",
    "import matplotlib.pyplot as plt\n",
    "import random  \n",
    "import time\n",
    "\n",
    "import tensorflow as tf\n",
    "\n",
    "from tensorflow.keras.datasets import cifar10   \n",
    "from tensorflow.keras.models import Sequential  \n",
    "\n",
    "from tensorflow.keras.preprocessing.image import ImageDataGenerator\n",
    "from tensorflow.keras.layers import Conv2D, MaxPooling2D, ZeroPadding2D, GlobalAveragePooling2D, Flatten\n",
    "from tensorflow.keras.layers import BatchNormalization\n",
    "\n",
    "from tensorflow.keras.layers import Dense, Dropout, Activation\n",
    "from tensorflow.keras.optimizers import SGD, Adam, schedules\n",
    "from tensorflow.keras import utils    "
   ]
  },
  {
   "cell_type": "code",
   "execution_count": 2,
   "id": "65fff63e",
   "metadata": {},
   "outputs": [
    {
     "name": "stdout",
     "output_type": "stream",
     "text": [
      "TensorFlow v2.12.0, 0 GPUs:\n"
     ]
    },
    {
     "data": {
      "text/plain": [
       "[]"
      ]
     },
     "execution_count": 2,
     "metadata": {},
     "output_type": "execute_result"
    }
   ],
   "source": [
    "config = tf.compat.v1.ConfigProto()\n",
    "config.gpu_options.per_process_gpu_memory_fraction = 0.7\n",
    "session = tf.compat.v1.Session(config=config)\n",
    "\n",
    "print(f\"TensorFlow v{tf.version.VERSION}, {len(tf.config.list_physical_devices('GPU'))} GPUs:\")\n",
    "tf.config.list_physical_devices('GPU')"
   ]
  },
  {
   "cell_type": "code",
   "execution_count": 3,
   "id": "5932a9d0",
   "metadata": {},
   "outputs": [
    {
     "name": "stdout",
     "output_type": "stream",
     "text": [
      "x_train shape (50000, 32, 32, 3)\n",
      "y_train shape (50000, 1)\n",
      "x_test shape (10000, 32, 32, 3)\n",
      "y_test shape (10000, 1)\n"
     ]
    }
   ],
   "source": [
    "(x_train, y_train), (x_test, y_test) = cifar10.load_data()\n",
    "\n",
    "print(\"x_train shape\", x_train.shape)\n",
    "print(\"y_train shape\", y_train.shape)\n",
    "print(\"x_test shape\", x_test.shape)\n",
    "print(\"y_test shape\", y_test.shape)"
   ]
  },
  {
   "cell_type": "code",
   "execution_count": 4,
   "id": "11d8844e",
   "metadata": {},
   "outputs": [],
   "source": [
    "nb_classes = 10 # aantal classes\n",
    "\n",
    "Y_train = utils.to_categorical(y_train, nb_classes)\n",
    "Y_test = utils.to_categorical(y_test, nb_classes)\n",
    "\n"
   ]
  },
  {
   "cell_type": "code",
   "execution_count": 5,
   "id": "389c4676",
   "metadata": {},
   "outputs": [
    {
     "name": "stdout",
     "output_type": "stream",
     "text": [
      "x_train shape (50000, 32, 32, 3)\n",
      "y_train shape (50000, 1)\n",
      "x_test shape (10000, 32, 32, 3)\n",
      "y_test shape (10000, 1)\n"
     ]
    }
   ],
   "source": [
    "print(\"x_train shape\", x_train.shape)\n",
    "print(\"y_train shape\", y_train.shape)\n",
    "print(\"x_test shape\", x_test.shape)\n",
    "print(\"y_test shape\", y_test.shape)"
   ]
  },
  {
   "cell_type": "markdown",
   "id": "6b588eaa",
   "metadata": {},
   "source": [
    "het voorbeeld op Canvas aangepast voor deze dataset:\n",
    "mijn PC is te langzaam om veel andere dingen uit te testen, maar dit haalt 76%, wat goed genoeg is voor deze doeleinden "
   ]
  },
  {
   "cell_type": "code",
   "execution_count": 6,
   "id": "c1af5d50",
   "metadata": {},
   "outputs": [
    {
     "name": "stdout",
     "output_type": "stream",
     "text": [
      "Epoch 1/20\n",
      "1563/1563 [==============================] - 188s 119ms/step - loss: 1.2104 - accuracy: 0.5745 - val_loss: 0.9869 - val_accuracy: 0.6527\n",
      "Epoch 2/20\n",
      "1563/1563 [==============================] - 184s 118ms/step - loss: 0.8129 - accuracy: 0.7154 - val_loss: 0.8992 - val_accuracy: 0.6899\n",
      "Epoch 3/20\n",
      "1563/1563 [==============================] - 191s 122ms/step - loss: 0.6735 - accuracy: 0.7648 - val_loss: 0.6840 - val_accuracy: 0.7648\n",
      "Epoch 4/20\n",
      "1563/1563 [==============================] - 168s 108ms/step - loss: 0.5635 - accuracy: 0.8030 - val_loss: 0.7164 - val_accuracy: 0.7545\n",
      "Epoch 5/20\n",
      "1563/1563 [==============================] - 167s 107ms/step - loss: 0.4776 - accuracy: 0.8334 - val_loss: 0.7333 - val_accuracy: 0.7617\n",
      "Epoch 6/20\n",
      "1563/1563 [==============================] - 180s 115ms/step - loss: 0.4014 - accuracy: 0.8588 - val_loss: 0.7069 - val_accuracy: 0.7655\n",
      "Epoch 7/20\n",
      "1563/1563 [==============================] - 173s 111ms/step - loss: 0.3421 - accuracy: 0.8782 - val_loss: 0.7853 - val_accuracy: 0.7551\n",
      "Epoch 8/20\n",
      "1563/1563 [==============================] - 161s 103ms/step - loss: 0.2869 - accuracy: 0.8990 - val_loss: 0.6945 - val_accuracy: 0.7885\n",
      "Epoch 9/20\n",
      "1563/1563 [==============================] - 115s 74ms/step - loss: 0.2427 - accuracy: 0.9140 - val_loss: 0.6857 - val_accuracy: 0.7916\n",
      "Epoch 10/20\n",
      "1563/1563 [==============================] - 130s 83ms/step - loss: 0.2090 - accuracy: 0.9264 - val_loss: 0.8475 - val_accuracy: 0.7733\n",
      "Epoch 11/20\n",
      "1563/1563 [==============================] - 131s 84ms/step - loss: 0.1766 - accuracy: 0.9393 - val_loss: 0.8119 - val_accuracy: 0.7812\n",
      "Epoch 12/20\n",
      "1563/1563 [==============================] - 155s 99ms/step - loss: 0.1581 - accuracy: 0.9449 - val_loss: 0.7508 - val_accuracy: 0.7876\n",
      "Epoch 13/20\n",
      "1563/1563 [==============================] - 188s 120ms/step - loss: 0.1391 - accuracy: 0.9513 - val_loss: 0.8275 - val_accuracy: 0.7858\n",
      "Epoch 14/20\n",
      "1563/1563 [==============================] - 163s 104ms/step - loss: 0.1322 - accuracy: 0.9533 - val_loss: 0.8560 - val_accuracy: 0.7900\n",
      "Epoch 15/20\n",
      "1563/1563 [==============================] - 150s 96ms/step - loss: 0.1160 - accuracy: 0.9601 - val_loss: 0.9647 - val_accuracy: 0.7645\n",
      "Epoch 16/20\n",
      "1563/1563 [==============================] - 157s 100ms/step - loss: 0.1138 - accuracy: 0.9605 - val_loss: 0.8932 - val_accuracy: 0.7922\n",
      "Epoch 17/20\n",
      "1563/1563 [==============================] - 134s 86ms/step - loss: 0.1021 - accuracy: 0.9652 - val_loss: 0.8899 - val_accuracy: 0.7849\n",
      "Epoch 18/20\n",
      "1563/1563 [==============================] - 139s 89ms/step - loss: 0.0967 - accuracy: 0.9662 - val_loss: 1.1877 - val_accuracy: 0.7400\n",
      "Epoch 19/20\n",
      "1563/1563 [==============================] - 144s 92ms/step - loss: 0.0899 - accuracy: 0.9682 - val_loss: 0.9137 - val_accuracy: 0.7902\n",
      "Epoch 20/20\n",
      "1563/1563 [==============================] - 137s 88ms/step - loss: 0.0896 - accuracy: 0.9685 - val_loss: 0.9439 - val_accuracy: 0.7904\n"
     ]
    }
   ],
   "source": [
    "model = Sequential()\n",
    "model.add(Conv2D(32, (3, 3), input_shape=(32, 32, 3)))\n",
    "model.add(BatchNormalization(axis=-1))\n",
    "model.add(Activation('relu'))\n",
    "\n",
    "model.add(Conv2D(32, (3, 3)))\n",
    "model.add(BatchNormalization(axis=-1))\n",
    "model.add(Activation('relu'))\n",
    "model.add(MaxPooling2D((2, 2)))\n",
    "          \n",
    "model.add(Conv2D(64, (3, 3)))\n",
    "model.add(BatchNormalization(axis=-1))\n",
    "model.add(Activation('relu'))\n",
    "\n",
    "model.add(Conv2D(64, (3, 3)))\n",
    "model.add(BatchNormalization(axis=-1))\n",
    "model.add(Activation('relu'))\n",
    "model.add(MaxPooling2D((2, 2)))      \n",
    "model.add(Flatten())\n",
    "\n",
    "model.add(Dense(512))\n",
    "model.add(BatchNormalization(axis=-1))\n",
    "model.add(Activation('relu'))\n",
    "\n",
    "model.add(Dropout(0.2))\n",
    "model.add(Dense(10, activation='softmax'))\n",
    "\n",
    "model.compile(optimizer='adam', loss='categorical_crossentropy', metrics=['accuracy'])\n",
    "\n",
    "history = model.fit(x_train, Y_train, epochs=20,\n",
    "                    validation_data=(x_test, Y_test))"
   ]
  },
  {
   "cell_type": "markdown",
   "id": "9a8f027d",
   "metadata": {},
   "source": [
    "zoals hieronder te zien wordt het model niet veel beter rond epoch 5-10"
   ]
  },
  {
   "cell_type": "code",
   "execution_count": 8,
   "id": "2d7df6da",
   "metadata": {},
   "outputs": [
    {
     "data": {
      "image/png": "[encoded data removed]",
      "text/plain": [
       "<Figure size 432x288 with 1 Axes>"
      ]
     },
     "metadata": {
      "needs_background": "light"
     },
     "output_type": "display_data"
    },
    {
     "data": {
      "image/png": "[encoded data removed]",
      "text/plain": [
       "<Figure size 432x288 with 1 Axes>"
      ]
     },
     "metadata": {
      "needs_background": "light"
     },
     "output_type": "display_data"
    }
   ],
   "source": [
    "plt.plot(history.history['accuracy'])\n",
    "plt.plot(history.history['val_accuracy'])\n",
    "plt.title('model accuracy')\n",
    "plt.ylabel('accuracy')\n",
    "plt.xlabel('epoch')\n",
    "plt.legend(['train', 'test'], loc='upper left')\n",
    "plt.show()\n",
    "\n",
    "plt.plot(history.history['loss'])\n",
    "plt.plot(history.history['val_loss'])\n",
    "plt.title('model loss')\n",
    "plt.ylabel('loss')\n",
    "plt.xlabel('epoch')\n",
    "plt.legend(['train', 'test'], loc='upper left')\n",
    "plt.show()"
   ]
  }
 ],
 "metadata": {
  "kernelspec": {
   "display_name": "Python 3 (ipykernel)",
   "language": "python",
   "name": "python3"
  },
  "language_info": {
   "codemirror_mode": {
    "name": "ipython",
    "version": 3
   },
   "file_extension": ".py",
   "mimetype": "text/x-python",
   "name": "python",
   "nbconvert_exporter": "python",
   "pygments_lexer": "ipython3",
   "version": "3.10.10"
  }
 },
 "nbformat": 4,
 "nbformat_minor": 5
}
