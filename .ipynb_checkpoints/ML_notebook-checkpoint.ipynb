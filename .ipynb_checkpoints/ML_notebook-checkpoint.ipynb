{
 "cells": [
  {
   "cell_type": "code",
   "execution_count": 27,
   "id": "3726bbe4",
   "metadata": {},
   "outputs": [],
   "source": [
    "import numpy as np\n",
    "import pandas as pd\n",
    "import graphviz\n",
    "from IPython.display import IFrame\n",
    "from PIL import Image\n",
    "import itertools\n",
    "from netwerk import Netwerk\n",
    "from activatie_functies import ActivatieFuncties\n",
    "from sklearn.datasets import load_iris"
   ]
  },
  {
   "cell_type": "markdown",
   "id": "75a843b0",
   "metadata": {},
   "source": [
    "## Opzet Netwerk\n",
    "\n",
    "Voor het netwerk heb ik gekozen om in plaats van elke neuron een object te maken, gewoon alle weights en biases in matrices en vectoren te zetten, respectievelijk. Een netwerk evalueren aan de hand van een input vector werkt als volgt:\n",
    "\n",
    "$${g(x):= f^{L}(W^{L}f^{L-1}(W^{L-1}\\cdots f^{1}(W^{1}x-b^{1})\\cdots )-b^{L-1})-b^{L})}$$\n",
    "waarbij:\n",
    " - $x:$ input vector\n",
    " - $L:$ aantal layers\n",
    " - $W^{l}=(w_{jk}^{l}):$ matrix van weights tussen layer $l$ en $l-1$, waarbij $w_{jk}^{l}$ de weight tussen node $j$ in layer $l$ en node $k$ in layer $l-1$ \n",
    " - $b^{l}:$ bias vector van layer $l$\n",
    " - $f^{l}(x):$ activatiefunctie van layer $l$\n",
    " "
   ]
  },
  {
   "cell_type": "markdown",
   "id": "62202726",
   "metadata": {},
   "source": [
    "## P1: Perceptron\n",
    "\n",
    "een perceptron is praktisch gewoon een netwerk met maar een layer met een enkele neuron met de `step` als activatiefunctie.\n",
    "enkele gates als voorbeeld voor de functionaliteit van de perceptron hieronder:"
   ]
  },
  {
   "cell_type": "code",
   "execution_count": 20,
   "id": "3e1c74da",
   "metadata": {},
   "outputs": [],
   "source": [
    "table_in_2 = np.array(list(itertools.product([0, 1], repeat=1)))\n",
    "\n",
    "table_in_4   = np.array(list(itertools.product([0, 1], repeat=2)))\n",
    "\n",
    "table_in_8   = np.array(list(itertools.product([0, 1], repeat=3)))"
   ]
  },
  {
   "cell_type": "code",
   "execution_count": 36,
   "id": "07f78c56",
   "metadata": {},
   "outputs": [
    {
     "name": "stdout",
     "output_type": "stream",
     "text": [
      "truth table AND\n",
      "[0 0] -> [[0]]\n",
      "[0 1] -> [[0]]\n",
      "[1 0] -> [[0]]\n",
      "[1 1] -> [[1]]\n",
      "\n",
      "truth table OR\n",
      "[0 0] -> [[0]]\n",
      "[0 1] -> [[1]]\n",
      "[1 0] -> [[1]]\n",
      "[1 1] -> [[1]]\n",
      "\n",
      "truth table NOT\n",
      "[0] -> [[0]]\n",
      "[1] -> [[1]]\n",
      "\n",
      "truth table NOR w/ 3 in\n",
      "[0 0 0] -> [[1]]\n",
      "[0 0 1] -> [[0]]\n",
      "[0 1 0] -> [[0]]\n",
      "[0 1 1] -> [[0]]\n",
      "[1 0 0] -> [[0]]\n",
      "[1 0 1] -> [[0]]\n",
      "[1 1 0] -> [[0]]\n",
      "[1 1 1] -> [[0]]\n",
      "\n",
      "truth table NAND w/ 3 in\n",
      "[0 0 0] -> [[0]]\n",
      "[0 0 1] -> [[1]]\n",
      "[0 1 0] -> [[1]]\n",
      "[0 1 1] -> [[1]]\n",
      "[1 0 0] -> [[1]]\n",
      "[1 0 1] -> [[1]]\n",
      "[1 1 0] -> [[1]]\n",
      "[1 1 1] -> [[1]]\n"
     ]
    }
   ],
   "source": [
    "netw = Netwerk(0, 0, 0, 0, ActivatieFuncties.STEP)\n",
    "\n",
    "netw._weights = [np.array([[1,1]])]\n",
    "netw._biases  = [np.array([[-2]])]\n",
    "print(\"truth table AND\")\n",
    "for x in table_in_4:\n",
    "    print(str(x) + \" -> \" + str(netw.evaluate(x)))\n",
    "    \n",
    "netw._weights = [np.array([[1,1]])]\n",
    "netw._biases  = [np.array([[-1]])]\n",
    "print(\"\\ntruth table OR\")\n",
    "for x in table_in_4:\n",
    "    print(str(x) + \" -> \" + str(netw.evaluate(x)))\n",
    "    \n",
    "netw._weights = [np.array([[1]])]\n",
    "netw._biases  = [np.array([[-1]])]\n",
    "print(\"\\ntruth table NOT\")\n",
    "for x in table_in_2:\n",
    "    print(str(x) + \" -> \" + str(netw.evaluate(x)))\n",
    "\n",
    "netw._weights = [np.array([[-1,-1,-1]])]\n",
    "netw._biases  = [np.array([[0]])]\n",
    "print(\"\\ntruth table NOR w/ 3 in\")\n",
    "for x in table_in_8:\n",
    "    print(str(x) + \" -> \" + str(netw.evaluate(x)))\n",
    "    \n",
    "netw._weights = [np.array([[1,1,1]])]\n",
    "netw._biases  = [np.array([[-1]])]\n",
    "print(\"\\ntruth table NAND w/ 3 in\")\n",
    "for x in table_in_8:\n",
    "    print(str(x) + \" -> \" + str(netw.evaluate(x)))"
   ]
  },
  {
   "cell_type": "code",
   "execution_count": 37,
   "id": "0798a203",
   "metadata": {},
   "outputs": [
    {
     "ename": "FileNotFoundError",
     "evalue": "[Errno 2] No such file or directory: 'netwerk.gv.bmp'",
     "output_type": "error",
     "traceback": [
      "\u001b[1;31m---------------------------------------------------------------------------\u001b[0m",
      "\u001b[1;31mFileNotFoundError\u001b[0m                         Traceback (most recent call last)",
      "Input \u001b[1;32mIn [37]\u001b[0m, in \u001b[0;36m<cell line: 3>\u001b[1;34m()\u001b[0m\n\u001b[0;32m      1\u001b[0m g \u001b[38;5;241m=\u001b[39m netw\u001b[38;5;241m.\u001b[39mvisualise_network(np\u001b[38;5;241m.\u001b[39marray([\u001b[38;5;124m'\u001b[39m\u001b[38;5;124mx1\u001b[39m\u001b[38;5;124m'\u001b[39m, \u001b[38;5;124m'\u001b[39m\u001b[38;5;124mx2\u001b[39m\u001b[38;5;124m'\u001b[39m, \u001b[38;5;124m'\u001b[39m\u001b[38;5;124mx3\u001b[39m\u001b[38;5;124m'\u001b[39m]), mindiam\u001b[38;5;241m=\u001b[39m\u001b[38;5;241m2.5\u001b[39m, minlen\u001b[38;5;241m=\u001b[39m\u001b[38;5;241m10\u001b[39m)\n\u001b[0;32m      2\u001b[0m g\u001b[38;5;241m.\u001b[39mrender(directory\u001b[38;5;241m=\u001b[39m\u001b[38;5;124m'\u001b[39m\u001b[38;5;124mgraphviz_renders\u001b[39m\u001b[38;5;124m'\u001b[39m, view\u001b[38;5;241m=\u001b[39m\u001b[38;5;28;01mFalse\u001b[39;00m)\n\u001b[1;32m----> 3\u001b[0m im \u001b[38;5;241m=\u001b[39m \u001b[43mImage\u001b[49m\u001b[38;5;241;43m.\u001b[39;49m\u001b[43mopen\u001b[49m\u001b[43m(\u001b[49m\u001b[38;5;124;43m'\u001b[39;49m\u001b[38;5;124;43mnetwerk.gv.bmp\u001b[39;49m\u001b[38;5;124;43m'\u001b[39;49m\u001b[43m)\u001b[49m\n\u001b[0;32m      4\u001b[0m IFrame(\u001b[38;5;124m\"\u001b[39m\u001b[38;5;124mnetwerk.gv.bmp\u001b[39m\u001b[38;5;124m\"\u001b[39m, width\u001b[38;5;241m=\u001b[39mim\u001b[38;5;241m.\u001b[39msize[\u001b[38;5;241m0\u001b[39m] \u001b[38;5;241m+\u001b[39m \u001b[38;5;241m1\u001b[39m, height\u001b[38;5;241m=\u001b[39mim\u001b[38;5;241m.\u001b[39msize[\u001b[38;5;241m1\u001b[39m] \u001b[38;5;241m+\u001b[39m \u001b[38;5;241m1\u001b[39m)\n",
      "File \u001b[1;32m~\\anaconda3\\lib\\site-packages\\PIL\\Image.py:2953\u001b[0m, in \u001b[0;36mopen\u001b[1;34m(fp, mode, formats)\u001b[0m\n\u001b[0;32m   2950\u001b[0m     filename \u001b[38;5;241m=\u001b[39m fp\n\u001b[0;32m   2952\u001b[0m \u001b[38;5;28;01mif\u001b[39;00m filename:\n\u001b[1;32m-> 2953\u001b[0m     fp \u001b[38;5;241m=\u001b[39m \u001b[43mbuiltins\u001b[49m\u001b[38;5;241;43m.\u001b[39;49m\u001b[43mopen\u001b[49m\u001b[43m(\u001b[49m\u001b[43mfilename\u001b[49m\u001b[43m,\u001b[49m\u001b[43m \u001b[49m\u001b[38;5;124;43m\"\u001b[39;49m\u001b[38;5;124;43mrb\u001b[39;49m\u001b[38;5;124;43m\"\u001b[39;49m\u001b[43m)\u001b[49m\n\u001b[0;32m   2954\u001b[0m     exclusive_fp \u001b[38;5;241m=\u001b[39m \u001b[38;5;28;01mTrue\u001b[39;00m\n\u001b[0;32m   2956\u001b[0m \u001b[38;5;28;01mtry\u001b[39;00m:\n",
      "\u001b[1;31mFileNotFoundError\u001b[0m: [Errno 2] No such file or directory: 'netwerk.gv.bmp'"
     ]
    }
   ],
   "source": [
    "g = netw.visualise_network(np.array(['x1', 'x2', 'x3']), mindiam=2.5, minlen=10)\n",
    "g.render(directory='graphviz_renders', view=False)\n",
    "im = Image.open('netwerk.gv.bmp')\n",
    "IFrame(\"netwerk.gv.bmp\", width=im.size[0] + 1, height=im.size[1] + 1)\n"
   ]
  },
  {
   "cell_type": "markdown",
   "id": "24f5cb67",
   "metadata": {},
   "source": [
    "Als voorbeeld voor een netwer"
   ]
  },
  {
   "cell_type": "code",
   "execution_count": 51,
   "id": "59a9c9e5",
   "metadata": {},
   "outputs": [
    {
     "name": "stdout",
     "output_type": "stream",
     "text": [
      "truth table XOR\n",
      "[0 0] -> 0\n",
      "[0 1] -> 1\n",
      "[1 0] -> 1\n",
      "[1 1] -> 0\n",
      "\n",
      "truth table half-adder: \n",
      "[0 0] -> [0 0]\n",
      "[0 1] -> [0 1]\n",
      "[1 0] -> [0 1]\n",
      "[1 1] -> [1 0]\n"
     ]
    }
   ],
   "source": [
    "#`weights` en `biases` is private dus dit mag eigenlijk niet, maar je zou in het echt toch nooit \n",
    "                            #zelf de weights en biases zetten\n",
    "\n",
    "netw = Netwerk(0, 0, 0, 0, ActivatieFuncties.STEP)\n",
    "netw._weights = [np.array([[ 1, 1],\n",
    "                           [ 1, 1],\n",
    "                           [-1,-1]]),\n",
    "                 np.array([[1,0,0],\n",
    "                           [0,1,1]])]  \n",
    "netw._biases =  [np.array([-2,-1, 1]),\n",
    "                 np.array([-1,-2])]       \n",
    "\n",
    "print(\"truth table XOR\") #een XOR is eigenlijk gewoon het sum gedeelte van een half-adder, dus alleen dat gedeelte van\n",
    "                         #de output van de half-adder nemen resulteert in de truth table van een XOR\n",
    "for x in table_in_4:\n",
    "    print(str(x) + \" -> \" + str(netw.evaluate(x)[1]))\n",
    "\n",
    "print(\"\\ntruth table half-adder: \")\n",
    "for x in table_in_4:\n",
    "    print(str(x) + \" -> \" + str(netw.evaluate(x)))"
   ]
  },
  {
   "cell_type": "code",
   "execution_count": null,
   "id": "dee2f0ce",
   "metadata": {},
   "outputs": [],
   "source": []
  }
 ],
 "metadata": {
  "kernelspec": {
   "display_name": "Python 3 (ipykernel)",
   "language": "python",
   "name": "python3"
  },
  "language_info": {
   "codemirror_mode": {
    "name": "ipython",
    "version": 3
   },
   "file_extension": ".py",
   "mimetype": "text/x-python",
   "name": "python",
   "nbconvert_exporter": "python",
   "pygments_lexer": "ipython3",
   "version": "3.9.12"
  }
 },
 "nbformat": 4,
 "nbformat_minor": 5
}
